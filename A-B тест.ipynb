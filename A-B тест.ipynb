{
 "cells": [
  {
   "cell_type": "code",
   "execution_count": 1,
   "id": "b16940b0",
   "metadata": {},
   "outputs": [],
   "source": [
    "import pandas as pd\n",
    "import numpy as np\n",
    "import datetime as dt\n",
    "import matplotlib.pyplot as plt\n",
    "import scipy.stats as stats"
   ]
  },
  {
   "cell_type": "code",
   "execution_count": 2,
   "id": "bbccf895",
   "metadata": {},
   "outputs": [],
   "source": [
    "hypothesis = pd.read_csv('C://Users//Igor//Desktop//data_analyst//5 project//hypothesis.csv')\n",
    "orders = pd.read_csv('C://Users//Igor//Desktop//data_analyst//5 project//orders.csv')\n",
    "visitors = pd.read_csv('C://Users//Igor//Desktop//data_analyst//5 project//visitors.csv')"
   ]
  },
  {
   "cell_type": "code",
   "execution_count": 3,
   "id": "602e40dc",
   "metadata": {},
   "outputs": [
    {
     "data": {
      "text/html": [
       "<div>\n",
       "<style scoped>\n",
       "    .dataframe tbody tr th:only-of-type {\n",
       "        vertical-align: middle;\n",
       "    }\n",
       "\n",
       "    .dataframe tbody tr th {\n",
       "        vertical-align: top;\n",
       "    }\n",
       "\n",
       "    .dataframe thead th {\n",
       "        text-align: right;\n",
       "    }\n",
       "</style>\n",
       "<table border=\"1\" class=\"dataframe\">\n",
       "  <thead>\n",
       "    <tr style=\"text-align: right;\">\n",
       "      <th></th>\n",
       "      <th>Hypothesis</th>\n",
       "      <th>Reach</th>\n",
       "      <th>Impact</th>\n",
       "      <th>Confidence</th>\n",
       "      <th>Efforts</th>\n",
       "    </tr>\n",
       "  </thead>\n",
       "  <tbody>\n",
       "    <tr>\n",
       "      <th>0</th>\n",
       "      <td>Добавить два новых канала привлечения трафика,...</td>\n",
       "      <td>3</td>\n",
       "      <td>10</td>\n",
       "      <td>8</td>\n",
       "      <td>6</td>\n",
       "    </tr>\n",
       "    <tr>\n",
       "      <th>1</th>\n",
       "      <td>Запустить собственную службу доставки, что сок...</td>\n",
       "      <td>2</td>\n",
       "      <td>5</td>\n",
       "      <td>4</td>\n",
       "      <td>10</td>\n",
       "    </tr>\n",
       "    <tr>\n",
       "      <th>2</th>\n",
       "      <td>Добавить блоки рекомендаций товаров на сайт ин...</td>\n",
       "      <td>8</td>\n",
       "      <td>3</td>\n",
       "      <td>7</td>\n",
       "      <td>3</td>\n",
       "    </tr>\n",
       "    <tr>\n",
       "      <th>3</th>\n",
       "      <td>Изменить структура категорий, что увеличит кон...</td>\n",
       "      <td>8</td>\n",
       "      <td>3</td>\n",
       "      <td>3</td>\n",
       "      <td>8</td>\n",
       "    </tr>\n",
       "    <tr>\n",
       "      <th>4</th>\n",
       "      <td>Изменить цвет фона главной страницы, чтобы уве...</td>\n",
       "      <td>3</td>\n",
       "      <td>1</td>\n",
       "      <td>1</td>\n",
       "      <td>1</td>\n",
       "    </tr>\n",
       "  </tbody>\n",
       "</table>\n",
       "</div>"
      ],
      "text/plain": [
       "                                          Hypothesis  Reach  Impact  \\\n",
       "0  Добавить два новых канала привлечения трафика,...      3      10   \n",
       "1  Запустить собственную службу доставки, что сок...      2       5   \n",
       "2  Добавить блоки рекомендаций товаров на сайт ин...      8       3   \n",
       "3  Изменить структура категорий, что увеличит кон...      8       3   \n",
       "4  Изменить цвет фона главной страницы, чтобы уве...      3       1   \n",
       "\n",
       "   Confidence  Efforts  \n",
       "0           8        6  \n",
       "1           4       10  \n",
       "2           7        3  \n",
       "3           3        8  \n",
       "4           1        1  "
      ]
     },
     "execution_count": 3,
     "metadata": {},
     "output_type": "execute_result"
    }
   ],
   "source": [
    "hypothesis.head()"
   ]
  },
  {
   "cell_type": "code",
   "execution_count": 4,
   "id": "74970430",
   "metadata": {},
   "outputs": [
    {
     "data": {
      "text/html": [
       "<div>\n",
       "<style scoped>\n",
       "    .dataframe tbody tr th:only-of-type {\n",
       "        vertical-align: middle;\n",
       "    }\n",
       "\n",
       "    .dataframe tbody tr th {\n",
       "        vertical-align: top;\n",
       "    }\n",
       "\n",
       "    .dataframe thead th {\n",
       "        text-align: right;\n",
       "    }\n",
       "</style>\n",
       "<table border=\"1\" class=\"dataframe\">\n",
       "  <thead>\n",
       "    <tr style=\"text-align: right;\">\n",
       "      <th></th>\n",
       "      <th>transactionId</th>\n",
       "      <th>visitorId</th>\n",
       "      <th>date</th>\n",
       "      <th>revenue</th>\n",
       "      <th>group</th>\n",
       "    </tr>\n",
       "  </thead>\n",
       "  <tbody>\n",
       "    <tr>\n",
       "      <th>0</th>\n",
       "      <td>3667963787</td>\n",
       "      <td>3312258926</td>\n",
       "      <td>2019-08-15</td>\n",
       "      <td>1650</td>\n",
       "      <td>B</td>\n",
       "    </tr>\n",
       "    <tr>\n",
       "      <th>1</th>\n",
       "      <td>2804400009</td>\n",
       "      <td>3642806036</td>\n",
       "      <td>2019-08-15</td>\n",
       "      <td>730</td>\n",
       "      <td>B</td>\n",
       "    </tr>\n",
       "    <tr>\n",
       "      <th>2</th>\n",
       "      <td>2961555356</td>\n",
       "      <td>4069496402</td>\n",
       "      <td>2019-08-15</td>\n",
       "      <td>400</td>\n",
       "      <td>A</td>\n",
       "    </tr>\n",
       "    <tr>\n",
       "      <th>3</th>\n",
       "      <td>3797467345</td>\n",
       "      <td>1196621759</td>\n",
       "      <td>2019-08-15</td>\n",
       "      <td>9759</td>\n",
       "      <td>B</td>\n",
       "    </tr>\n",
       "    <tr>\n",
       "      <th>4</th>\n",
       "      <td>2282983706</td>\n",
       "      <td>2322279887</td>\n",
       "      <td>2019-08-15</td>\n",
       "      <td>2308</td>\n",
       "      <td>B</td>\n",
       "    </tr>\n",
       "  </tbody>\n",
       "</table>\n",
       "</div>"
      ],
      "text/plain": [
       "   transactionId   visitorId        date  revenue group\n",
       "0     3667963787  3312258926  2019-08-15     1650     B\n",
       "1     2804400009  3642806036  2019-08-15      730     B\n",
       "2     2961555356  4069496402  2019-08-15      400     A\n",
       "3     3797467345  1196621759  2019-08-15     9759     B\n",
       "4     2282983706  2322279887  2019-08-15     2308     B"
      ]
     },
     "execution_count": 4,
     "metadata": {},
     "output_type": "execute_result"
    }
   ],
   "source": [
    "orders.head()"
   ]
  },
  {
   "cell_type": "code",
   "execution_count": 5,
   "id": "f32509ee",
   "metadata": {},
   "outputs": [
    {
     "data": {
      "text/html": [
       "<div>\n",
       "<style scoped>\n",
       "    .dataframe tbody tr th:only-of-type {\n",
       "        vertical-align: middle;\n",
       "    }\n",
       "\n",
       "    .dataframe tbody tr th {\n",
       "        vertical-align: top;\n",
       "    }\n",
       "\n",
       "    .dataframe thead th {\n",
       "        text-align: right;\n",
       "    }\n",
       "</style>\n",
       "<table border=\"1\" class=\"dataframe\">\n",
       "  <thead>\n",
       "    <tr style=\"text-align: right;\">\n",
       "      <th></th>\n",
       "      <th>date</th>\n",
       "      <th>group</th>\n",
       "      <th>visitors</th>\n",
       "    </tr>\n",
       "  </thead>\n",
       "  <tbody>\n",
       "    <tr>\n",
       "      <th>0</th>\n",
       "      <td>2019-08-01</td>\n",
       "      <td>A</td>\n",
       "      <td>719</td>\n",
       "    </tr>\n",
       "    <tr>\n",
       "      <th>1</th>\n",
       "      <td>2019-08-02</td>\n",
       "      <td>A</td>\n",
       "      <td>619</td>\n",
       "    </tr>\n",
       "    <tr>\n",
       "      <th>2</th>\n",
       "      <td>2019-08-03</td>\n",
       "      <td>A</td>\n",
       "      <td>507</td>\n",
       "    </tr>\n",
       "    <tr>\n",
       "      <th>3</th>\n",
       "      <td>2019-08-04</td>\n",
       "      <td>A</td>\n",
       "      <td>717</td>\n",
       "    </tr>\n",
       "    <tr>\n",
       "      <th>4</th>\n",
       "      <td>2019-08-05</td>\n",
       "      <td>A</td>\n",
       "      <td>756</td>\n",
       "    </tr>\n",
       "    <tr>\n",
       "      <th>...</th>\n",
       "      <td>...</td>\n",
       "      <td>...</td>\n",
       "      <td>...</td>\n",
       "    </tr>\n",
       "    <tr>\n",
       "      <th>57</th>\n",
       "      <td>2019-08-27</td>\n",
       "      <td>B</td>\n",
       "      <td>720</td>\n",
       "    </tr>\n",
       "    <tr>\n",
       "      <th>58</th>\n",
       "      <td>2019-08-28</td>\n",
       "      <td>B</td>\n",
       "      <td>654</td>\n",
       "    </tr>\n",
       "    <tr>\n",
       "      <th>59</th>\n",
       "      <td>2019-08-29</td>\n",
       "      <td>B</td>\n",
       "      <td>531</td>\n",
       "    </tr>\n",
       "    <tr>\n",
       "      <th>60</th>\n",
       "      <td>2019-08-30</td>\n",
       "      <td>B</td>\n",
       "      <td>490</td>\n",
       "    </tr>\n",
       "    <tr>\n",
       "      <th>61</th>\n",
       "      <td>2019-08-31</td>\n",
       "      <td>B</td>\n",
       "      <td>718</td>\n",
       "    </tr>\n",
       "  </tbody>\n",
       "</table>\n",
       "<p>62 rows × 3 columns</p>\n",
       "</div>"
      ],
      "text/plain": [
       "          date group  visitors\n",
       "0   2019-08-01     A       719\n",
       "1   2019-08-02     A       619\n",
       "2   2019-08-03     A       507\n",
       "3   2019-08-04     A       717\n",
       "4   2019-08-05     A       756\n",
       "..         ...   ...       ...\n",
       "57  2019-08-27     B       720\n",
       "58  2019-08-28     B       654\n",
       "59  2019-08-29     B       531\n",
       "60  2019-08-30     B       490\n",
       "61  2019-08-31     B       718\n",
       "\n",
       "[62 rows x 3 columns]"
      ]
     },
     "execution_count": 5,
     "metadata": {},
     "output_type": "execute_result"
    }
   ],
   "source": [
    "visitors"
   ]
  },
  {
   "cell_type": "markdown",
   "id": "f6ff07c3",
   "metadata": {},
   "source": [
    "## 1. Сделаем приоритезацию гипотиз по ICE"
   ]
  },
  {
   "cell_type": "code",
   "execution_count": 6,
   "id": "8874d865",
   "metadata": {},
   "outputs": [],
   "source": [
    "hypothesis['ICE'] = hypothesis['Impact'] * hypothesis['Confidence'] / hypothesis['Efforts']\n",
    "hypothesis['RICE'] = hypothesis['Reach'] * hypothesis['Impact'] * hypothesis['Confidence'] / hypothesis['Efforts']"
   ]
  },
  {
   "cell_type": "code",
   "execution_count": 7,
   "id": "abf4277e",
   "metadata": {},
   "outputs": [
    {
     "data": {
      "text/html": [
       "<div>\n",
       "<style scoped>\n",
       "    .dataframe tbody tr th:only-of-type {\n",
       "        vertical-align: middle;\n",
       "    }\n",
       "\n",
       "    .dataframe tbody tr th {\n",
       "        vertical-align: top;\n",
       "    }\n",
       "\n",
       "    .dataframe thead th {\n",
       "        text-align: right;\n",
       "    }\n",
       "</style>\n",
       "<table border=\"1\" class=\"dataframe\">\n",
       "  <thead>\n",
       "    <tr style=\"text-align: right;\">\n",
       "      <th></th>\n",
       "      <th>Hypothesis</th>\n",
       "      <th>Reach</th>\n",
       "      <th>Impact</th>\n",
       "      <th>Confidence</th>\n",
       "      <th>Efforts</th>\n",
       "      <th>ICE</th>\n",
       "      <th>RICE</th>\n",
       "    </tr>\n",
       "  </thead>\n",
       "  <tbody>\n",
       "    <tr>\n",
       "      <th>8</th>\n",
       "      <td>Запустить акцию, дающую скидку на товар в день...</td>\n",
       "      <td>1</td>\n",
       "      <td>9</td>\n",
       "      <td>9</td>\n",
       "      <td>5</td>\n",
       "      <td>16.200000</td>\n",
       "      <td>16.2</td>\n",
       "    </tr>\n",
       "    <tr>\n",
       "      <th>0</th>\n",
       "      <td>Добавить два новых канала привлечения трафика,...</td>\n",
       "      <td>3</td>\n",
       "      <td>10</td>\n",
       "      <td>8</td>\n",
       "      <td>6</td>\n",
       "      <td>13.333333</td>\n",
       "      <td>40.0</td>\n",
       "    </tr>\n",
       "    <tr>\n",
       "      <th>7</th>\n",
       "      <td>Добавить форму подписки на все основные страни...</td>\n",
       "      <td>10</td>\n",
       "      <td>7</td>\n",
       "      <td>8</td>\n",
       "      <td>5</td>\n",
       "      <td>11.200000</td>\n",
       "      <td>112.0</td>\n",
       "    </tr>\n",
       "    <tr>\n",
       "      <th>6</th>\n",
       "      <td>Показать на главной странице баннеры с актуаль...</td>\n",
       "      <td>5</td>\n",
       "      <td>3</td>\n",
       "      <td>8</td>\n",
       "      <td>3</td>\n",
       "      <td>8.000000</td>\n",
       "      <td>40.0</td>\n",
       "    </tr>\n",
       "    <tr>\n",
       "      <th>2</th>\n",
       "      <td>Добавить блоки рекомендаций товаров на сайт ин...</td>\n",
       "      <td>8</td>\n",
       "      <td>3</td>\n",
       "      <td>7</td>\n",
       "      <td>3</td>\n",
       "      <td>7.000000</td>\n",
       "      <td>56.0</td>\n",
       "    </tr>\n",
       "    <tr>\n",
       "      <th>1</th>\n",
       "      <td>Запустить собственную службу доставки, что сок...</td>\n",
       "      <td>2</td>\n",
       "      <td>5</td>\n",
       "      <td>4</td>\n",
       "      <td>10</td>\n",
       "      <td>2.000000</td>\n",
       "      <td>4.0</td>\n",
       "    </tr>\n",
       "    <tr>\n",
       "      <th>5</th>\n",
       "      <td>Добавить страницу отзывов клиентов о магазине,...</td>\n",
       "      <td>3</td>\n",
       "      <td>2</td>\n",
       "      <td>2</td>\n",
       "      <td>3</td>\n",
       "      <td>1.333333</td>\n",
       "      <td>4.0</td>\n",
       "    </tr>\n",
       "    <tr>\n",
       "      <th>3</th>\n",
       "      <td>Изменить структура категорий, что увеличит кон...</td>\n",
       "      <td>8</td>\n",
       "      <td>3</td>\n",
       "      <td>3</td>\n",
       "      <td>8</td>\n",
       "      <td>1.125000</td>\n",
       "      <td>9.0</td>\n",
       "    </tr>\n",
       "    <tr>\n",
       "      <th>4</th>\n",
       "      <td>Изменить цвет фона главной страницы, чтобы уве...</td>\n",
       "      <td>3</td>\n",
       "      <td>1</td>\n",
       "      <td>1</td>\n",
       "      <td>1</td>\n",
       "      <td>1.000000</td>\n",
       "      <td>3.0</td>\n",
       "    </tr>\n",
       "  </tbody>\n",
       "</table>\n",
       "</div>"
      ],
      "text/plain": [
       "                                          Hypothesis  Reach  Impact  \\\n",
       "8  Запустить акцию, дающую скидку на товар в день...      1       9   \n",
       "0  Добавить два новых канала привлечения трафика,...      3      10   \n",
       "7  Добавить форму подписки на все основные страни...     10       7   \n",
       "6  Показать на главной странице баннеры с актуаль...      5       3   \n",
       "2  Добавить блоки рекомендаций товаров на сайт ин...      8       3   \n",
       "1  Запустить собственную службу доставки, что сок...      2       5   \n",
       "5  Добавить страницу отзывов клиентов о магазине,...      3       2   \n",
       "3  Изменить структура категорий, что увеличит кон...      8       3   \n",
       "4  Изменить цвет фона главной страницы, чтобы уве...      3       1   \n",
       "\n",
       "   Confidence  Efforts        ICE   RICE  \n",
       "8           9        5  16.200000   16.2  \n",
       "0           8        6  13.333333   40.0  \n",
       "7           8        5  11.200000  112.0  \n",
       "6           8        3   8.000000   40.0  \n",
       "2           7        3   7.000000   56.0  \n",
       "1           4       10   2.000000    4.0  \n",
       "5           2        3   1.333333    4.0  \n",
       "3           3        8   1.125000    9.0  \n",
       "4           1        1   1.000000    3.0  "
      ]
     },
     "execution_count": 7,
     "metadata": {},
     "output_type": "execute_result"
    }
   ],
   "source": [
    "hypothesis.sort_values('ICE', ascending=False)"
   ]
  },
  {
   "cell_type": "code",
   "execution_count": 8,
   "id": "30118771",
   "metadata": {},
   "outputs": [
    {
     "data": {
      "text/html": [
       "<div>\n",
       "<style scoped>\n",
       "    .dataframe tbody tr th:only-of-type {\n",
       "        vertical-align: middle;\n",
       "    }\n",
       "\n",
       "    .dataframe tbody tr th {\n",
       "        vertical-align: top;\n",
       "    }\n",
       "\n",
       "    .dataframe thead th {\n",
       "        text-align: right;\n",
       "    }\n",
       "</style>\n",
       "<table border=\"1\" class=\"dataframe\">\n",
       "  <thead>\n",
       "    <tr style=\"text-align: right;\">\n",
       "      <th></th>\n",
       "      <th>Hypothesis</th>\n",
       "      <th>Reach</th>\n",
       "      <th>Impact</th>\n",
       "      <th>Confidence</th>\n",
       "      <th>Efforts</th>\n",
       "      <th>ICE</th>\n",
       "      <th>RICE</th>\n",
       "    </tr>\n",
       "  </thead>\n",
       "  <tbody>\n",
       "    <tr>\n",
       "      <th>7</th>\n",
       "      <td>Добавить форму подписки на все основные страни...</td>\n",
       "      <td>10</td>\n",
       "      <td>7</td>\n",
       "      <td>8</td>\n",
       "      <td>5</td>\n",
       "      <td>11.200000</td>\n",
       "      <td>112.0</td>\n",
       "    </tr>\n",
       "    <tr>\n",
       "      <th>2</th>\n",
       "      <td>Добавить блоки рекомендаций товаров на сайт ин...</td>\n",
       "      <td>8</td>\n",
       "      <td>3</td>\n",
       "      <td>7</td>\n",
       "      <td>3</td>\n",
       "      <td>7.000000</td>\n",
       "      <td>56.0</td>\n",
       "    </tr>\n",
       "    <tr>\n",
       "      <th>0</th>\n",
       "      <td>Добавить два новых канала привлечения трафика,...</td>\n",
       "      <td>3</td>\n",
       "      <td>10</td>\n",
       "      <td>8</td>\n",
       "      <td>6</td>\n",
       "      <td>13.333333</td>\n",
       "      <td>40.0</td>\n",
       "    </tr>\n",
       "    <tr>\n",
       "      <th>6</th>\n",
       "      <td>Показать на главной странице баннеры с актуаль...</td>\n",
       "      <td>5</td>\n",
       "      <td>3</td>\n",
       "      <td>8</td>\n",
       "      <td>3</td>\n",
       "      <td>8.000000</td>\n",
       "      <td>40.0</td>\n",
       "    </tr>\n",
       "    <tr>\n",
       "      <th>8</th>\n",
       "      <td>Запустить акцию, дающую скидку на товар в день...</td>\n",
       "      <td>1</td>\n",
       "      <td>9</td>\n",
       "      <td>9</td>\n",
       "      <td>5</td>\n",
       "      <td>16.200000</td>\n",
       "      <td>16.2</td>\n",
       "    </tr>\n",
       "    <tr>\n",
       "      <th>3</th>\n",
       "      <td>Изменить структура категорий, что увеличит кон...</td>\n",
       "      <td>8</td>\n",
       "      <td>3</td>\n",
       "      <td>3</td>\n",
       "      <td>8</td>\n",
       "      <td>1.125000</td>\n",
       "      <td>9.0</td>\n",
       "    </tr>\n",
       "    <tr>\n",
       "      <th>1</th>\n",
       "      <td>Запустить собственную службу доставки, что сок...</td>\n",
       "      <td>2</td>\n",
       "      <td>5</td>\n",
       "      <td>4</td>\n",
       "      <td>10</td>\n",
       "      <td>2.000000</td>\n",
       "      <td>4.0</td>\n",
       "    </tr>\n",
       "    <tr>\n",
       "      <th>5</th>\n",
       "      <td>Добавить страницу отзывов клиентов о магазине,...</td>\n",
       "      <td>3</td>\n",
       "      <td>2</td>\n",
       "      <td>2</td>\n",
       "      <td>3</td>\n",
       "      <td>1.333333</td>\n",
       "      <td>4.0</td>\n",
       "    </tr>\n",
       "    <tr>\n",
       "      <th>4</th>\n",
       "      <td>Изменить цвет фона главной страницы, чтобы уве...</td>\n",
       "      <td>3</td>\n",
       "      <td>1</td>\n",
       "      <td>1</td>\n",
       "      <td>1</td>\n",
       "      <td>1.000000</td>\n",
       "      <td>3.0</td>\n",
       "    </tr>\n",
       "  </tbody>\n",
       "</table>\n",
       "</div>"
      ],
      "text/plain": [
       "                                          Hypothesis  Reach  Impact  \\\n",
       "7  Добавить форму подписки на все основные страни...     10       7   \n",
       "2  Добавить блоки рекомендаций товаров на сайт ин...      8       3   \n",
       "0  Добавить два новых канала привлечения трафика,...      3      10   \n",
       "6  Показать на главной странице баннеры с актуаль...      5       3   \n",
       "8  Запустить акцию, дающую скидку на товар в день...      1       9   \n",
       "3  Изменить структура категорий, что увеличит кон...      8       3   \n",
       "1  Запустить собственную службу доставки, что сок...      2       5   \n",
       "5  Добавить страницу отзывов клиентов о магазине,...      3       2   \n",
       "4  Изменить цвет фона главной страницы, чтобы уве...      3       1   \n",
       "\n",
       "   Confidence  Efforts        ICE   RICE  \n",
       "7           8        5  11.200000  112.0  \n",
       "2           7        3   7.000000   56.0  \n",
       "0           8        6  13.333333   40.0  \n",
       "6           8        3   8.000000   40.0  \n",
       "8           9        5  16.200000   16.2  \n",
       "3           3        8   1.125000    9.0  \n",
       "1           4       10   2.000000    4.0  \n",
       "5           2        3   1.333333    4.0  \n",
       "4           1        1   1.000000    3.0  "
      ]
     },
     "execution_count": 8,
     "metadata": {},
     "output_type": "execute_result"
    }
   ],
   "source": [
    "hypothesis.sort_values('RICE', ascending=False)"
   ]
  },
  {
   "cell_type": "markdown",
   "id": "8fc24067",
   "metadata": {},
   "source": [
    "### Вывод: при использовании RICE на первое место вышла гипотиза у которой охват 10, в то время как при использовании ICE на первом месте была гипотиза с охватом 1, что явно является неправильным приоритетом."
   ]
  },
  {
   "cell_type": "markdown",
   "id": "ad79e580",
   "metadata": {},
   "source": [
    "## 2. Анализ А/В теста"
   ]
  },
  {
   "cell_type": "markdown",
   "id": "3b6b8949",
   "metadata": {},
   "source": [
    "### 2.1 Анализ кумулятивной выручки по группам "
   ]
  },
  {
   "cell_type": "code",
   "execution_count": 9,
   "id": "6ec29c86",
   "metadata": {
    "scrolled": false
   },
   "outputs": [],
   "source": [
    "visitors['date'] = visitors['date'].map(lambda x: dt.datetime.strptime(x,'%Y-%m-%d'))\n",
    "orders['date'] = orders['date'].map(lambda x: dt.datetime.strptime(x,'%Y-%m-%d'))"
   ]
  },
  {
   "cell_type": "code",
   "execution_count": 10,
   "id": "b5a5ae27",
   "metadata": {},
   "outputs": [],
   "source": [
    "datesGroups = orders[['date','group']].drop_duplicates()"
   ]
  },
  {
   "cell_type": "code",
   "execution_count": 11,
   "id": "d7f0373d",
   "metadata": {},
   "outputs": [
    {
     "data": {
      "text/html": [
       "<div>\n",
       "<style scoped>\n",
       "    .dataframe tbody tr th:only-of-type {\n",
       "        vertical-align: middle;\n",
       "    }\n",
       "\n",
       "    .dataframe tbody tr th {\n",
       "        vertical-align: top;\n",
       "    }\n",
       "\n",
       "    .dataframe thead th {\n",
       "        text-align: right;\n",
       "    }\n",
       "</style>\n",
       "<table border=\"1\" class=\"dataframe\">\n",
       "  <thead>\n",
       "    <tr style=\"text-align: right;\">\n",
       "      <th></th>\n",
       "      <th>date</th>\n",
       "      <th>group</th>\n",
       "    </tr>\n",
       "  </thead>\n",
       "  <tbody>\n",
       "    <tr>\n",
       "      <th>0</th>\n",
       "      <td>2019-08-15</td>\n",
       "      <td>B</td>\n",
       "    </tr>\n",
       "    <tr>\n",
       "      <th>2</th>\n",
       "      <td>2019-08-15</td>\n",
       "      <td>A</td>\n",
       "    </tr>\n",
       "    <tr>\n",
       "      <th>45</th>\n",
       "      <td>2019-08-16</td>\n",
       "      <td>A</td>\n",
       "    </tr>\n",
       "    <tr>\n",
       "      <th>47</th>\n",
       "      <td>2019-08-16</td>\n",
       "      <td>B</td>\n",
       "    </tr>\n",
       "    <tr>\n",
       "      <th>55</th>\n",
       "      <td>2019-08-01</td>\n",
       "      <td>A</td>\n",
       "    </tr>\n",
       "    <tr>\n",
       "      <th>...</th>\n",
       "      <td>...</td>\n",
       "      <td>...</td>\n",
       "    </tr>\n",
       "    <tr>\n",
       "      <th>1068</th>\n",
       "      <td>2019-08-12</td>\n",
       "      <td>A</td>\n",
       "    </tr>\n",
       "    <tr>\n",
       "      <th>1114</th>\n",
       "      <td>2019-08-13</td>\n",
       "      <td>B</td>\n",
       "    </tr>\n",
       "    <tr>\n",
       "      <th>1116</th>\n",
       "      <td>2019-08-13</td>\n",
       "      <td>A</td>\n",
       "    </tr>\n",
       "    <tr>\n",
       "      <th>1149</th>\n",
       "      <td>2019-08-14</td>\n",
       "      <td>B</td>\n",
       "    </tr>\n",
       "    <tr>\n",
       "      <th>1150</th>\n",
       "      <td>2019-08-14</td>\n",
       "      <td>A</td>\n",
       "    </tr>\n",
       "  </tbody>\n",
       "</table>\n",
       "<p>62 rows × 2 columns</p>\n",
       "</div>"
      ],
      "text/plain": [
       "           date group\n",
       "0    2019-08-15     B\n",
       "2    2019-08-15     A\n",
       "45   2019-08-16     A\n",
       "47   2019-08-16     B\n",
       "55   2019-08-01     A\n",
       "...         ...   ...\n",
       "1068 2019-08-12     A\n",
       "1114 2019-08-13     B\n",
       "1116 2019-08-13     A\n",
       "1149 2019-08-14     B\n",
       "1150 2019-08-14     A\n",
       "\n",
       "[62 rows x 2 columns]"
      ]
     },
     "execution_count": 11,
     "metadata": {},
     "output_type": "execute_result"
    }
   ],
   "source": [
    "datesGroups"
   ]
  },
  {
   "cell_type": "code",
   "execution_count": 12,
   "id": "44083e5b",
   "metadata": {},
   "outputs": [],
   "source": [
    "ordersAggregated = datesGroups.apply(\n",
    "    lambda x: orders[np.logical_and(orders['date'] <= x['date'], orders['group'] == x['group'])].agg(\n",
    "    {'date':'max', 'group':'max','transactionId':'nunique', 'visitorId':'nunique', 'revenue':'sum'}\n",
    "    ),axis=1).sort_values(by=['date','group'])\n",
    "visitorsAggregated = datesGroups.apply(\n",
    "    lambda x: visitors[np.logical_and(visitors['date'] <= x['date'], visitors['group'] == x['group'])].agg(\n",
    "    {'date':'max', 'group':'max','visitors':'sum'}\n",
    "    ),axis=1).sort_values(by=['date','group'])"
   ]
  },
  {
   "cell_type": "code",
   "execution_count": 13,
   "id": "b019ecc6",
   "metadata": {},
   "outputs": [
    {
     "data": {
      "text/html": [
       "<div>\n",
       "<style scoped>\n",
       "    .dataframe tbody tr th:only-of-type {\n",
       "        vertical-align: middle;\n",
       "    }\n",
       "\n",
       "    .dataframe tbody tr th {\n",
       "        vertical-align: top;\n",
       "    }\n",
       "\n",
       "    .dataframe thead th {\n",
       "        text-align: right;\n",
       "    }\n",
       "</style>\n",
       "<table border=\"1\" class=\"dataframe\">\n",
       "  <thead>\n",
       "    <tr style=\"text-align: right;\">\n",
       "      <th></th>\n",
       "      <th>date</th>\n",
       "      <th>group</th>\n",
       "      <th>transactionId</th>\n",
       "      <th>visitorId</th>\n",
       "      <th>revenue</th>\n",
       "    </tr>\n",
       "  </thead>\n",
       "  <tbody>\n",
       "    <tr>\n",
       "      <th>55</th>\n",
       "      <td>2019-08-01</td>\n",
       "      <td>A</td>\n",
       "      <td>24</td>\n",
       "      <td>20</td>\n",
       "      <td>148579</td>\n",
       "    </tr>\n",
       "    <tr>\n",
       "      <th>66</th>\n",
       "      <td>2019-08-01</td>\n",
       "      <td>B</td>\n",
       "      <td>21</td>\n",
       "      <td>20</td>\n",
       "      <td>101217</td>\n",
       "    </tr>\n",
       "    <tr>\n",
       "      <th>175</th>\n",
       "      <td>2019-08-02</td>\n",
       "      <td>A</td>\n",
       "      <td>44</td>\n",
       "      <td>38</td>\n",
       "      <td>242401</td>\n",
       "    </tr>\n",
       "    <tr>\n",
       "      <th>173</th>\n",
       "      <td>2019-08-02</td>\n",
       "      <td>B</td>\n",
       "      <td>45</td>\n",
       "      <td>43</td>\n",
       "      <td>266748</td>\n",
       "    </tr>\n",
       "    <tr>\n",
       "      <th>291</th>\n",
       "      <td>2019-08-03</td>\n",
       "      <td>A</td>\n",
       "      <td>68</td>\n",
       "      <td>62</td>\n",
       "      <td>354874</td>\n",
       "    </tr>\n",
       "    <tr>\n",
       "      <th>...</th>\n",
       "      <td>...</td>\n",
       "      <td>...</td>\n",
       "      <td>...</td>\n",
       "      <td>...</td>\n",
       "      <td>...</td>\n",
       "    </tr>\n",
       "    <tr>\n",
       "      <th>496</th>\n",
       "      <td>2019-08-29</td>\n",
       "      <td>B</td>\n",
       "      <td>596</td>\n",
       "      <td>544</td>\n",
       "      <td>5559398</td>\n",
       "    </tr>\n",
       "    <tr>\n",
       "      <th>730</th>\n",
       "      <td>2019-08-30</td>\n",
       "      <td>A</td>\n",
       "      <td>545</td>\n",
       "      <td>493</td>\n",
       "      <td>4022970</td>\n",
       "    </tr>\n",
       "    <tr>\n",
       "      <th>690</th>\n",
       "      <td>2019-08-30</td>\n",
       "      <td>B</td>\n",
       "      <td>620</td>\n",
       "      <td>567</td>\n",
       "      <td>5774631</td>\n",
       "    </tr>\n",
       "    <tr>\n",
       "      <th>958</th>\n",
       "      <td>2019-08-31</td>\n",
       "      <td>A</td>\n",
       "      <td>557</td>\n",
       "      <td>503</td>\n",
       "      <td>4084803</td>\n",
       "    </tr>\n",
       "    <tr>\n",
       "      <th>930</th>\n",
       "      <td>2019-08-31</td>\n",
       "      <td>B</td>\n",
       "      <td>640</td>\n",
       "      <td>586</td>\n",
       "      <td>5907760</td>\n",
       "    </tr>\n",
       "  </tbody>\n",
       "</table>\n",
       "<p>62 rows × 5 columns</p>\n",
       "</div>"
      ],
      "text/plain": [
       "          date group  transactionId  visitorId  revenue\n",
       "55  2019-08-01     A             24         20   148579\n",
       "66  2019-08-01     B             21         20   101217\n",
       "175 2019-08-02     A             44         38   242401\n",
       "173 2019-08-02     B             45         43   266748\n",
       "291 2019-08-03     A             68         62   354874\n",
       "..         ...   ...            ...        ...      ...\n",
       "496 2019-08-29     B            596        544  5559398\n",
       "730 2019-08-30     A            545        493  4022970\n",
       "690 2019-08-30     B            620        567  5774631\n",
       "958 2019-08-31     A            557        503  4084803\n",
       "930 2019-08-31     B            640        586  5907760\n",
       "\n",
       "[62 rows x 5 columns]"
      ]
     },
     "execution_count": 13,
     "metadata": {},
     "output_type": "execute_result"
    }
   ],
   "source": [
    "ordersAggregated"
   ]
  },
  {
   "cell_type": "code",
   "execution_count": 14,
   "id": "46817cf3",
   "metadata": {},
   "outputs": [
    {
     "data": {
      "text/html": [
       "<div>\n",
       "<style scoped>\n",
       "    .dataframe tbody tr th:only-of-type {\n",
       "        vertical-align: middle;\n",
       "    }\n",
       "\n",
       "    .dataframe tbody tr th {\n",
       "        vertical-align: top;\n",
       "    }\n",
       "\n",
       "    .dataframe thead th {\n",
       "        text-align: right;\n",
       "    }\n",
       "</style>\n",
       "<table border=\"1\" class=\"dataframe\">\n",
       "  <thead>\n",
       "    <tr style=\"text-align: right;\">\n",
       "      <th></th>\n",
       "      <th>date</th>\n",
       "      <th>group</th>\n",
       "      <th>visitors</th>\n",
       "    </tr>\n",
       "  </thead>\n",
       "  <tbody>\n",
       "    <tr>\n",
       "      <th>55</th>\n",
       "      <td>2019-08-01</td>\n",
       "      <td>A</td>\n",
       "      <td>719</td>\n",
       "    </tr>\n",
       "    <tr>\n",
       "      <th>66</th>\n",
       "      <td>2019-08-01</td>\n",
       "      <td>B</td>\n",
       "      <td>713</td>\n",
       "    </tr>\n",
       "    <tr>\n",
       "      <th>175</th>\n",
       "      <td>2019-08-02</td>\n",
       "      <td>A</td>\n",
       "      <td>1338</td>\n",
       "    </tr>\n",
       "    <tr>\n",
       "      <th>173</th>\n",
       "      <td>2019-08-02</td>\n",
       "      <td>B</td>\n",
       "      <td>1294</td>\n",
       "    </tr>\n",
       "    <tr>\n",
       "      <th>291</th>\n",
       "      <td>2019-08-03</td>\n",
       "      <td>A</td>\n",
       "      <td>1845</td>\n",
       "    </tr>\n",
       "    <tr>\n",
       "      <th>...</th>\n",
       "      <td>...</td>\n",
       "      <td>...</td>\n",
       "      <td>...</td>\n",
       "    </tr>\n",
       "    <tr>\n",
       "      <th>496</th>\n",
       "      <td>2019-08-29</td>\n",
       "      <td>B</td>\n",
       "      <td>17708</td>\n",
       "    </tr>\n",
       "    <tr>\n",
       "      <th>730</th>\n",
       "      <td>2019-08-30</td>\n",
       "      <td>A</td>\n",
       "      <td>18037</td>\n",
       "    </tr>\n",
       "    <tr>\n",
       "      <th>690</th>\n",
       "      <td>2019-08-30</td>\n",
       "      <td>B</td>\n",
       "      <td>18198</td>\n",
       "    </tr>\n",
       "    <tr>\n",
       "      <th>958</th>\n",
       "      <td>2019-08-31</td>\n",
       "      <td>A</td>\n",
       "      <td>18736</td>\n",
       "    </tr>\n",
       "    <tr>\n",
       "      <th>930</th>\n",
       "      <td>2019-08-31</td>\n",
       "      <td>B</td>\n",
       "      <td>18916</td>\n",
       "    </tr>\n",
       "  </tbody>\n",
       "</table>\n",
       "<p>62 rows × 3 columns</p>\n",
       "</div>"
      ],
      "text/plain": [
       "          date group  visitors\n",
       "55  2019-08-01     A       719\n",
       "66  2019-08-01     B       713\n",
       "175 2019-08-02     A      1338\n",
       "173 2019-08-02     B      1294\n",
       "291 2019-08-03     A      1845\n",
       "..         ...   ...       ...\n",
       "496 2019-08-29     B     17708\n",
       "730 2019-08-30     A     18037\n",
       "690 2019-08-30     B     18198\n",
       "958 2019-08-31     A     18736\n",
       "930 2019-08-31     B     18916\n",
       "\n",
       "[62 rows x 3 columns]"
      ]
     },
     "execution_count": 14,
     "metadata": {},
     "output_type": "execute_result"
    }
   ],
   "source": [
    "visitorsAggregated"
   ]
  },
  {
   "cell_type": "code",
   "execution_count": 15,
   "id": "f76508c3",
   "metadata": {},
   "outputs": [
    {
     "data": {
      "text/html": [
       "<div>\n",
       "<style scoped>\n",
       "    .dataframe tbody tr th:only-of-type {\n",
       "        vertical-align: middle;\n",
       "    }\n",
       "\n",
       "    .dataframe tbody tr th {\n",
       "        vertical-align: top;\n",
       "    }\n",
       "\n",
       "    .dataframe thead th {\n",
       "        text-align: right;\n",
       "    }\n",
       "</style>\n",
       "<table border=\"1\" class=\"dataframe\">\n",
       "  <thead>\n",
       "    <tr style=\"text-align: right;\">\n",
       "      <th></th>\n",
       "      <th>date</th>\n",
       "      <th>group</th>\n",
       "      <th>visitors</th>\n",
       "      <th>transactions</th>\n",
       "      <th>buyers</th>\n",
       "      <th>revenue</th>\n",
       "    </tr>\n",
       "  </thead>\n",
       "  <tbody>\n",
       "    <tr>\n",
       "      <th>1</th>\n",
       "      <td>2019-08-01</td>\n",
       "      <td>B</td>\n",
       "      <td>713</td>\n",
       "      <td>21</td>\n",
       "      <td>20</td>\n",
       "      <td>101217</td>\n",
       "    </tr>\n",
       "    <tr>\n",
       "      <th>3</th>\n",
       "      <td>2019-08-02</td>\n",
       "      <td>B</td>\n",
       "      <td>1294</td>\n",
       "      <td>45</td>\n",
       "      <td>43</td>\n",
       "      <td>266748</td>\n",
       "    </tr>\n",
       "    <tr>\n",
       "      <th>5</th>\n",
       "      <td>2019-08-03</td>\n",
       "      <td>B</td>\n",
       "      <td>1803</td>\n",
       "      <td>61</td>\n",
       "      <td>59</td>\n",
       "      <td>380996</td>\n",
       "    </tr>\n",
       "    <tr>\n",
       "      <th>7</th>\n",
       "      <td>2019-08-04</td>\n",
       "      <td>B</td>\n",
       "      <td>2573</td>\n",
       "      <td>78</td>\n",
       "      <td>75</td>\n",
       "      <td>489567</td>\n",
       "    </tr>\n",
       "    <tr>\n",
       "      <th>9</th>\n",
       "      <td>2019-08-05</td>\n",
       "      <td>B</td>\n",
       "      <td>3280</td>\n",
       "      <td>101</td>\n",
       "      <td>98</td>\n",
       "      <td>581995</td>\n",
       "    </tr>\n",
       "  </tbody>\n",
       "</table>\n",
       "</div>"
      ],
      "text/plain": [
       "        date group  visitors  transactions  buyers  revenue\n",
       "1 2019-08-01     B       713            21      20   101217\n",
       "3 2019-08-02     B      1294            45      43   266748\n",
       "5 2019-08-03     B      1803            61      59   380996\n",
       "7 2019-08-04     B      2573            78      75   489567\n",
       "9 2019-08-05     B      3280           101      98   581995"
      ]
     },
     "execution_count": 15,
     "metadata": {},
     "output_type": "execute_result"
    }
   ],
   "source": [
    "cumulativeData = visitorsAggregated.merge(ordersAggregated,left_on=['date','group'],right_on=['date','group'])\n",
    "cumulativeData.columns= ['date','group','visitors','transactions','buyers','revenue']\n",
    "cumulativeA=cumulativeData[cumulativeData['group']=='A']\n",
    "cumulativeB=cumulativeData[cumulativeData['group']=='B']\n",
    "cumulativeB.head()\n"
   ]
  },
  {
   "cell_type": "code",
   "execution_count": 16,
   "id": "d728cfc6",
   "metadata": {},
   "outputs": [
    {
     "name": "stdout",
     "output_type": "stream",
     "text": [
      "График кумулятивной выручки по группам\n"
     ]
    },
    {
     "data": {
      "image/png": "[encoded data removed]",
      "text/plain": [
       "<Figure size 432x288 with 1 Axes>"
      ]
     },
     "metadata": {
      "needs_background": "light"
     },
     "output_type": "display_data"
    }
   ],
   "source": [
    "plt.plot(cumulativeA['date'],cumulativeA['revenue'],label='A')\n",
    "plt.plot(cumulativeB['date'],cumulativeB['revenue'],label='B')\n",
    "\n",
    "plt.legend()\n",
    "print('График кумулятивной выручки по группам')"
   ]
  },
  {
   "cell_type": "markdown",
   "id": "cc8c69f4",
   "metadata": {},
   "source": [
    "### Вывод: выручка группы В стала значительно выше примерно в середине эксперимента, чем выручка группы А"
   ]
  },
  {
   "cell_type": "markdown",
   "id": "b6035881",
   "metadata": {},
   "source": [
    "### 2.2 Анализ кумулятивного среднего чека по группам"
   ]
  },
  {
   "cell_type": "code",
   "execution_count": 17,
   "id": "ab759e5e",
   "metadata": {},
   "outputs": [
    {
     "data": {
      "text/plain": [
       "<matplotlib.legend.Legend at 0x19c3cbc5e80>"
      ]
     },
     "execution_count": 17,
     "metadata": {},
     "output_type": "execute_result"
    },
    {
     "data": {
      "image/png": "[encoded data removed]",
      "text/plain": [
       "<Figure size 432x288 with 1 Axes>"
      ]
     },
     "metadata": {
      "needs_background": "light"
     },
     "output_type": "display_data"
    }
   ],
   "source": [
    "plt.plot(cumulativeA['date'], cumulativeA['revenue']/cumulativeA['transactions'], label = 'A')\n",
    "plt.plot(cumulativeB['date'], cumulativeB['revenue']/cumulativeB['transactions'], label = 'B')\n",
    "plt.legend()"
   ]
  },
  {
   "cell_type": "markdown",
   "id": "27c54962",
   "metadata": {},
   "source": [
    "### Вывод: видим выброс по середине графика у группы B, возможно если бы не эта аномалия то графики были бы равны."
   ]
  },
  {
   "cell_type": "markdown",
   "id": "453a69af",
   "metadata": {},
   "source": [
    "### 2.3 Анализ относительного изменения кумулятивного среднего чека"
   ]
  },
  {
   "cell_type": "code",
   "execution_count": 18,
   "id": "c7383b03",
   "metadata": {},
   "outputs": [
    {
     "data": {
      "text/html": [
       "<div>\n",
       "<style scoped>\n",
       "    .dataframe tbody tr th:only-of-type {\n",
       "        vertical-align: middle;\n",
       "    }\n",
       "\n",
       "    .dataframe tbody tr th {\n",
       "        vertical-align: top;\n",
       "    }\n",
       "\n",
       "    .dataframe thead th {\n",
       "        text-align: right;\n",
       "    }\n",
       "</style>\n",
       "<table border=\"1\" class=\"dataframe\">\n",
       "  <thead>\n",
       "    <tr style=\"text-align: right;\">\n",
       "      <th></th>\n",
       "      <th>date</th>\n",
       "      <th>groupA</th>\n",
       "      <th>visitorsA</th>\n",
       "      <th>transactionsA</th>\n",
       "      <th>buyersA</th>\n",
       "      <th>revenueA</th>\n",
       "      <th>groupB</th>\n",
       "      <th>visitorsB</th>\n",
       "      <th>transactionsB</th>\n",
       "      <th>buyersB</th>\n",
       "      <th>revenueB</th>\n",
       "    </tr>\n",
       "  </thead>\n",
       "  <tbody>\n",
       "    <tr>\n",
       "      <th>0</th>\n",
       "      <td>2019-08-01</td>\n",
       "      <td>A</td>\n",
       "      <td>719</td>\n",
       "      <td>24</td>\n",
       "      <td>20</td>\n",
       "      <td>148579</td>\n",
       "      <td>B</td>\n",
       "      <td>713</td>\n",
       "      <td>21</td>\n",
       "      <td>20</td>\n",
       "      <td>101217</td>\n",
       "    </tr>\n",
       "    <tr>\n",
       "      <th>1</th>\n",
       "      <td>2019-08-02</td>\n",
       "      <td>A</td>\n",
       "      <td>1338</td>\n",
       "      <td>44</td>\n",
       "      <td>38</td>\n",
       "      <td>242401</td>\n",
       "      <td>B</td>\n",
       "      <td>1294</td>\n",
       "      <td>45</td>\n",
       "      <td>43</td>\n",
       "      <td>266748</td>\n",
       "    </tr>\n",
       "    <tr>\n",
       "      <th>2</th>\n",
       "      <td>2019-08-03</td>\n",
       "      <td>A</td>\n",
       "      <td>1845</td>\n",
       "      <td>68</td>\n",
       "      <td>62</td>\n",
       "      <td>354874</td>\n",
       "      <td>B</td>\n",
       "      <td>1803</td>\n",
       "      <td>61</td>\n",
       "      <td>59</td>\n",
       "      <td>380996</td>\n",
       "    </tr>\n",
       "    <tr>\n",
       "      <th>3</th>\n",
       "      <td>2019-08-04</td>\n",
       "      <td>A</td>\n",
       "      <td>2562</td>\n",
       "      <td>84</td>\n",
       "      <td>77</td>\n",
       "      <td>425699</td>\n",
       "      <td>B</td>\n",
       "      <td>2573</td>\n",
       "      <td>78</td>\n",
       "      <td>75</td>\n",
       "      <td>489567</td>\n",
       "    </tr>\n",
       "    <tr>\n",
       "      <th>4</th>\n",
       "      <td>2019-08-05</td>\n",
       "      <td>A</td>\n",
       "      <td>3318</td>\n",
       "      <td>109</td>\n",
       "      <td>100</td>\n",
       "      <td>549917</td>\n",
       "      <td>B</td>\n",
       "      <td>3280</td>\n",
       "      <td>101</td>\n",
       "      <td>98</td>\n",
       "      <td>581995</td>\n",
       "    </tr>\n",
       "  </tbody>\n",
       "</table>\n",
       "</div>"
      ],
      "text/plain": [
       "        date groupA  visitorsA  transactionsA  buyersA  revenueA groupB  \\\n",
       "0 2019-08-01      A        719             24       20    148579      B   \n",
       "1 2019-08-02      A       1338             44       38    242401      B   \n",
       "2 2019-08-03      A       1845             68       62    354874      B   \n",
       "3 2019-08-04      A       2562             84       77    425699      B   \n",
       "4 2019-08-05      A       3318            109      100    549917      B   \n",
       "\n",
       "   visitorsB  transactionsB  buyersB  revenueB  \n",
       "0        713             21       20    101217  \n",
       "1       1294             45       43    266748  \n",
       "2       1803             61       59    380996  \n",
       "3       2573             78       75    489567  \n",
       "4       3280            101       98    581995  "
      ]
     },
     "execution_count": 18,
     "metadata": {},
     "output_type": "execute_result"
    }
   ],
   "source": [
    "mergedCumulativeRevenue = cumulativeA.merge(cumulativeB, left_on=['date'],right_on=['date'],suffixes=['A','B'])\n",
    "mergedCumulativeRevenue.head()"
   ]
  },
  {
   "cell_type": "code",
   "execution_count": 19,
   "id": "932f609e",
   "metadata": {},
   "outputs": [
    {
     "data": {
      "text/plain": [
       "<matplotlib.lines.Line2D at 0x19c3cbf99d0>"
      ]
     },
     "execution_count": 19,
     "metadata": {},
     "output_type": "execute_result"
    },
    {
     "data": {
      "image/png": "[encoded data removed]",
      "text/plain": [
       "<Figure size 432x288 with 1 Axes>"
      ]
     },
     "metadata": {
      "needs_background": "light"
     },
     "output_type": "display_data"
    }
   ],
   "source": [
    "plt.plot(mergedCumulativeRevenue['date'], (mergedCumulativeRevenue['revenueB']/mergedCumulativeRevenue['transactionsB'])/(mergedCumulativeRevenue['revenueA']/mergedCumulativeRevenue['transactionsA'])-1)\n",
    "plt.axhline(y=0, color='black', linestyle='--') "
   ]
  },
  {
   "cell_type": "markdown",
   "id": "7683c018",
   "metadata": {},
   "source": [
    "### Вывод: график сильно скачит, значит в данных точно где то есть выбросы."
   ]
  },
  {
   "cell_type": "markdown",
   "id": "9d1f8399",
   "metadata": {},
   "source": [
    "### 2.5 Анализ относительного изменения кумулятивной конверсии группы В к группе А"
   ]
  },
  {
   "cell_type": "code",
   "execution_count": 20,
   "id": "2e22af83",
   "metadata": {},
   "outputs": [],
   "source": [
    "cumulativeData['conversion'] = cumulativeData['transactions'] / cumulativeData['visitors']"
   ]
  },
  {
   "cell_type": "code",
   "execution_count": 21,
   "id": "e8d236ed",
   "metadata": {},
   "outputs": [
    {
     "data": {
      "text/html": [
       "<div>\n",
       "<style scoped>\n",
       "    .dataframe tbody tr th:only-of-type {\n",
       "        vertical-align: middle;\n",
       "    }\n",
       "\n",
       "    .dataframe tbody tr th {\n",
       "        vertical-align: top;\n",
       "    }\n",
       "\n",
       "    .dataframe thead th {\n",
       "        text-align: right;\n",
       "    }\n",
       "</style>\n",
       "<table border=\"1\" class=\"dataframe\">\n",
       "  <thead>\n",
       "    <tr style=\"text-align: right;\">\n",
       "      <th></th>\n",
       "      <th>date</th>\n",
       "      <th>group</th>\n",
       "      <th>visitors</th>\n",
       "      <th>transactions</th>\n",
       "      <th>buyers</th>\n",
       "      <th>revenue</th>\n",
       "      <th>conversion</th>\n",
       "    </tr>\n",
       "  </thead>\n",
       "  <tbody>\n",
       "    <tr>\n",
       "      <th>0</th>\n",
       "      <td>2019-08-01</td>\n",
       "      <td>A</td>\n",
       "      <td>719</td>\n",
       "      <td>24</td>\n",
       "      <td>20</td>\n",
       "      <td>148579</td>\n",
       "      <td>0.033380</td>\n",
       "    </tr>\n",
       "    <tr>\n",
       "      <th>2</th>\n",
       "      <td>2019-08-02</td>\n",
       "      <td>A</td>\n",
       "      <td>1338</td>\n",
       "      <td>44</td>\n",
       "      <td>38</td>\n",
       "      <td>242401</td>\n",
       "      <td>0.032885</td>\n",
       "    </tr>\n",
       "    <tr>\n",
       "      <th>4</th>\n",
       "      <td>2019-08-03</td>\n",
       "      <td>A</td>\n",
       "      <td>1845</td>\n",
       "      <td>68</td>\n",
       "      <td>62</td>\n",
       "      <td>354874</td>\n",
       "      <td>0.036856</td>\n",
       "    </tr>\n",
       "    <tr>\n",
       "      <th>6</th>\n",
       "      <td>2019-08-04</td>\n",
       "      <td>A</td>\n",
       "      <td>2562</td>\n",
       "      <td>84</td>\n",
       "      <td>77</td>\n",
       "      <td>425699</td>\n",
       "      <td>0.032787</td>\n",
       "    </tr>\n",
       "    <tr>\n",
       "      <th>8</th>\n",
       "      <td>2019-08-05</td>\n",
       "      <td>A</td>\n",
       "      <td>3318</td>\n",
       "      <td>109</td>\n",
       "      <td>100</td>\n",
       "      <td>549917</td>\n",
       "      <td>0.032851</td>\n",
       "    </tr>\n",
       "  </tbody>\n",
       "</table>\n",
       "</div>"
      ],
      "text/plain": [
       "        date group  visitors  transactions  buyers  revenue  conversion\n",
       "0 2019-08-01     A       719            24      20   148579    0.033380\n",
       "2 2019-08-02     A      1338            44      38   242401    0.032885\n",
       "4 2019-08-03     A      1845            68      62   354874    0.036856\n",
       "6 2019-08-04     A      2562            84      77   425699    0.032787\n",
       "8 2019-08-05     A      3318           109     100   549917    0.032851"
      ]
     },
     "execution_count": 21,
     "metadata": {},
     "output_type": "execute_result"
    }
   ],
   "source": [
    "cumulativeA = cumulativeData[cumulativeData['group']=='A']\n",
    "cumulativeB = cumulativeData[cumulativeData['group']=='B']\n",
    "cumulativeA.head()"
   ]
  },
  {
   "cell_type": "code",
   "execution_count": 22,
   "id": "96b956ca",
   "metadata": {},
   "outputs": [
    {
     "data": {
      "text/plain": [
       "(18109.0, 18139.0, 0.02, 0.05)"
      ]
     },
     "execution_count": 22,
     "metadata": {},
     "output_type": "execute_result"
    },
    {
     "data": {
      "image/png": "[encoded data removed]",
      "text/plain": [
       "<Figure size 432x288 with 1 Axes>"
      ]
     },
     "metadata": {
      "needs_background": "light"
     },
     "output_type": "display_data"
    }
   ],
   "source": [
    "date1 = dt.datetime(2019,8,1)\n",
    "date2 = dt.datetime(2019,8,31)\n",
    "\n",
    "plt.plot(cumulativeA['date'],cumulativeA['conversion'], label='A')\n",
    "plt.plot(cumulativeB['date'],cumulativeB['conversion'], label='B')\n",
    "plt.legend()\n",
    "plt.axis([date1, date2, 0.02, 0.05]) "
   ]
  },
  {
   "cell_type": "markdown",
   "id": "cad9354f",
   "metadata": {},
   "source": [
    "### Вывод: в начале графики колебались, но достаточно быстро стабилизировались и конверсия группы В зафиксировалась выше группы А."
   ]
  },
  {
   "cell_type": "markdown",
   "id": "fcca2493",
   "metadata": {},
   "source": [
    "### 2.6 Анализ точечного графика количества заказов по пользователям"
   ]
  },
  {
   "cell_type": "code",
   "execution_count": 23,
   "id": "91521cfc",
   "metadata": {},
   "outputs": [
    {
     "data": {
      "text/html": [
       "<div>\n",
       "<style scoped>\n",
       "    .dataframe tbody tr th:only-of-type {\n",
       "        vertical-align: middle;\n",
       "    }\n",
       "\n",
       "    .dataframe tbody tr th {\n",
       "        vertical-align: top;\n",
       "    }\n",
       "\n",
       "    .dataframe thead th {\n",
       "        text-align: right;\n",
       "    }\n",
       "</style>\n",
       "<table border=\"1\" class=\"dataframe\">\n",
       "  <thead>\n",
       "    <tr style=\"text-align: right;\">\n",
       "      <th></th>\n",
       "      <th>visitorId</th>\n",
       "      <th>transactionId</th>\n",
       "      <th>revenue</th>\n",
       "    </tr>\n",
       "  </thead>\n",
       "  <tbody>\n",
       "    <tr>\n",
       "      <th>0</th>\n",
       "      <td>5114589</td>\n",
       "      <td>1</td>\n",
       "      <td>570</td>\n",
       "    </tr>\n",
       "    <tr>\n",
       "      <th>1</th>\n",
       "      <td>6958315</td>\n",
       "      <td>1</td>\n",
       "      <td>1490</td>\n",
       "    </tr>\n",
       "    <tr>\n",
       "      <th>2</th>\n",
       "      <td>8300375</td>\n",
       "      <td>2</td>\n",
       "      <td>12300</td>\n",
       "    </tr>\n",
       "    <tr>\n",
       "      <th>3</th>\n",
       "      <td>11685486</td>\n",
       "      <td>1</td>\n",
       "      <td>6201</td>\n",
       "    </tr>\n",
       "    <tr>\n",
       "      <th>4</th>\n",
       "      <td>39475350</td>\n",
       "      <td>1</td>\n",
       "      <td>3990</td>\n",
       "    </tr>\n",
       "  </tbody>\n",
       "</table>\n",
       "</div>"
      ],
      "text/plain": [
       "   visitorId  transactionId  revenue\n",
       "0    5114589              1      570\n",
       "1    6958315              1     1490\n",
       "2    8300375              2    12300\n",
       "3   11685486              1     6201\n",
       "4   39475350              1     3990"
      ]
     },
     "execution_count": 23,
     "metadata": {},
     "output_type": "execute_result"
    },
    {
     "data": {
      "image/png": "[encoded data removed]",
      "text/plain": [
       "<Figure size 432x288 with 1 Axes>"
      ]
     },
     "metadata": {
      "needs_background": "light"
     },
     "output_type": "display_data"
    }
   ],
   "source": [
    "count_transactions = orders.groupby('visitorId').agg({'transactionId':'count','revenue':'sum'}).reset_index()\n",
    "x_values = pd.Series(range(0,len(count_transactions['visitorId'])))\n",
    "plt.scatter(x_values, count_transactions['transactionId'])\n",
    "count_transactions.head()"
   ]
  },
  {
   "cell_type": "markdown",
   "id": "0cb0d68e",
   "metadata": {},
   "source": [
    "### Вывод: из точечного графика видно, что есть выбросы в виде количества заказов больше 5 штук. "
   ]
  },
  {
   "cell_type": "markdown",
   "id": "579090f0",
   "metadata": {},
   "source": [
    "### 2.7 Посчитаем 95 и 99 процентиль количества заказов на пользователя, выберем границу для опеределения аномальных значений."
   ]
  },
  {
   "cell_type": "code",
   "execution_count": 24,
   "id": "b9112a5b",
   "metadata": {},
   "outputs": [
    {
     "name": "stdout",
     "output_type": "stream",
     "text": [
      "[4.03708104e+09 4.24195110e+09]\n"
     ]
    }
   ],
   "source": [
    "print(np.percentile(count_transactions['visitorId'],[95,99]))"
   ]
  },
  {
   "cell_type": "markdown",
   "id": "e4eff54d",
   "metadata": {},
   "source": [
    "### Вывод: 95 и 99 прецентели почти не отличаются, поэтому возьмем за границу 95 (4 заказа)"
   ]
  },
  {
   "cell_type": "markdown",
   "id": "bc9770dd",
   "metadata": {},
   "source": [
    "### 2.8 Построим точечный график стоимости заказов "
   ]
  },
  {
   "cell_type": "code",
   "execution_count": 25,
   "id": "3397f0f7",
   "metadata": {},
   "outputs": [
    {
     "data": {
      "text/plain": [
       "<matplotlib.collections.PathCollection at 0x19c3cdaf1f0>"
      ]
     },
     "execution_count": 25,
     "metadata": {},
     "output_type": "execute_result"
    },
    {
     "data": {
      "image/png": "[encoded data removed]",
      "text/plain": [
       "<Figure size 432x288 with 1 Axes>"
      ]
     },
     "metadata": {
      "needs_background": "light"
     },
     "output_type": "display_data"
    }
   ],
   "source": [
    "x_values = pd.Series(range(0,len(orders['revenue'])))\n",
    "plt.scatter(x_values, orders['revenue']) "
   ]
  },
  {
   "cell_type": "markdown",
   "id": "9c6a89d1",
   "metadata": {},
   "source": [
    "### Вывод: видим всего 2 больших выброса "
   ]
  },
  {
   "cell_type": "markdown",
   "id": "160db0eb",
   "metadata": {},
   "source": [
    "### 2.9 Посчитаем 95 и 99 прецентили стоимости заказов"
   ]
  },
  {
   "cell_type": "code",
   "execution_count": 26,
   "id": "112ec680",
   "metadata": {},
   "outputs": [
    {
     "name": "stdout",
     "output_type": "stream",
     "text": [
      "[28000.  58233.2]\n"
     ]
    }
   ],
   "source": [
    "print(np.percentile(orders['revenue'],[95,99]))"
   ]
  },
  {
   "cell_type": "markdown",
   "id": "84e02609",
   "metadata": {},
   "source": [
    "### Вывод: разница в стоимости заказа 95 и 99 прецентиля более чем в 2 раза. Оставим границу на 95 процентеле (28000). "
   ]
  },
  {
   "cell_type": "markdown",
   "id": "77d6d9bc",
   "metadata": {},
   "source": [
    "### 2.10 Анализ статистической значимости различий в конверсии между группами по «сырым» данным"
   ]
  },
  {
   "cell_type": "code",
   "execution_count": 27,
   "id": "a662afa8",
   "metadata": {},
   "outputs": [
    {
     "name": "stdout",
     "output_type": "stream",
     "text": [
      "0.011\n",
      "0.149\n"
     ]
    }
   ],
   "source": [
    "ordersByUsersA = (\n",
    "    orders[orders['group'] == 'A']\n",
    "    .groupby('visitorId', as_index=False)\n",
    "    .agg({'transactionId': 'nunique'})\n",
    ")\n",
    "ordersByUsersA.columns = ['userId', 'orders']\n",
    "\n",
    "ordersByUsersB = (\n",
    "    orders[orders['group'] == 'B']\n",
    "    .groupby('visitorId', as_index=False)\n",
    "    .agg({'transactionId': 'nunique'})\n",
    ")\n",
    "ordersByUsersB.columns = ['userId', 'orders']\n",
    "\n",
    "sampleA = pd.concat(\n",
    "    [\n",
    "        ordersByUsersA['orders'],\n",
    "        pd.Series(\n",
    "            0,\n",
    "            index=np.arange(\n",
    "                visitors[visitors['group'] == 'B']['visitors'].sum() - orders.groupby('group').agg({'visitorId':'nunique'})['visitorId'][0]\n",
    "            ),\n",
    "            name='orders',\n",
    "        ),\n",
    "    ],\n",
    "    axis=0,\n",
    ")\n",
    "\n",
    "sampleB = pd.concat(\n",
    "    [\n",
    "        ordersByUsersB['orders'],\n",
    "        pd.Series(\n",
    "            0,\n",
    "            index=np.arange(\n",
    "                visitors[visitors['group'] == 'B']['visitors'].sum() - orders.groupby('group').agg({'visitorId':'nunique'})['visitorId'][1]\n",
    "            ),\n",
    "            name='orders',\n",
    "        ),\n",
    "    ],\n",
    "    axis=0,\n",
    ")\n",
    "\n",
    "\n",
    "print(\"{0:.3f}\".format(stats.mannwhitneyu(sampleA, sampleB)[1]))\n",
    "print(\"{0:.3f}\".format(sampleB.mean() / sampleA.mean() - 1))"
   ]
  },
  {
   "cell_type": "markdown",
   "id": "9dc7ce93",
   "metadata": {},
   "source": [
    "### Вывод: относительный прирост группы B составил 15%, p-value = 0.011, по неочищенным данным разница в конверсии между группами A и B статистически значима."
   ]
  },
  {
   "cell_type": "markdown",
   "id": "e2399549",
   "metadata": {},
   "source": [
    "### 2.11 Анализ статистической значимости различий в среднем чеке заказа между группами по «сырым» данным."
   ]
  },
  {
   "cell_type": "code",
   "execution_count": 28,
   "id": "12f34ff1",
   "metadata": {},
   "outputs": [
    {
     "name": "stdout",
     "output_type": "stream",
     "text": [
      "p-value = 0.729\n",
      "0.259\n"
     ]
    }
   ],
   "source": [
    "print(\"p-value = {0:.3f}\".format(stats.mannwhitneyu(orders[orders['group']=='A']['revenue'], orders[orders['group']=='B']['revenue'])[1]))\n",
    "print(\"{0:.3f}\".format(orders[orders['group']=='B']['revenue'].mean() / orders[orders['group']=='A']['revenue'].mean() - 1))"
   ]
  },
  {
   "cell_type": "markdown",
   "id": "f10c91b4",
   "metadata": {},
   "source": [
    "### Вывод: средний чек группы B больше группы А на 26%, p-value = 0.72, по неочищенным данным разница в среднем чеке между группами A и B статистически не значима."
   ]
  },
  {
   "cell_type": "markdown",
   "id": "23094d0d",
   "metadata": {},
   "source": [
    "### 2.12 Анализ статистической значимости различий в конверсии между группами по «очищенным» данным"
   ]
  },
  {
   "cell_type": "code",
   "execution_count": 29,
   "id": "abb4594f",
   "metadata": {},
   "outputs": [],
   "source": [
    "sampleAclear = sampleA[sampleA<5]\n",
    "sampleBclear = sampleB[sampleB<5]"
   ]
  },
  {
   "cell_type": "code",
   "execution_count": 30,
   "id": "fd3bb598",
   "metadata": {},
   "outputs": [
    {
     "name": "stdout",
     "output_type": "stream",
     "text": [
      "0.010\n",
      "0.165\n"
     ]
    }
   ],
   "source": [
    "print(\"{0:.3f}\".format(stats.mannwhitneyu(sampleAclear, sampleBclear)[1]))\n",
    "print(\"{0:.3f}\".format(sampleBclear.mean() / sampleAclear.mean() - 1))"
   ]
  },
  {
   "cell_type": "markdown",
   "id": "b28c2c9c",
   "metadata": {},
   "source": [
    "### Вывод: относительный прирост группы B составил 16,5%, p-value = 0.01, по очищенным данным разница в конверсии между группами A и B статистически значима."
   ]
  },
  {
   "cell_type": "markdown",
   "id": "faf4c190",
   "metadata": {},
   "source": [
    "### 2.13 Анализ статистической значимости различий в среднем чеке заказа между группами по «очищенным» данным"
   ]
  },
  {
   "cell_type": "code",
   "execution_count": 31,
   "id": "a4dc09da",
   "metadata": {},
   "outputs": [
    {
     "data": {
      "text/html": [
       "<div>\n",
       "<style scoped>\n",
       "    .dataframe tbody tr th:only-of-type {\n",
       "        vertical-align: middle;\n",
       "    }\n",
       "\n",
       "    .dataframe tbody tr th {\n",
       "        vertical-align: top;\n",
       "    }\n",
       "\n",
       "    .dataframe thead th {\n",
       "        text-align: right;\n",
       "    }\n",
       "</style>\n",
       "<table border=\"1\" class=\"dataframe\">\n",
       "  <thead>\n",
       "    <tr style=\"text-align: right;\">\n",
       "      <th></th>\n",
       "      <th>transactionId</th>\n",
       "      <th>visitorId</th>\n",
       "      <th>date</th>\n",
       "      <th>revenue</th>\n",
       "      <th>group</th>\n",
       "    </tr>\n",
       "  </thead>\n",
       "  <tbody>\n",
       "    <tr>\n",
       "      <th>0</th>\n",
       "      <td>3667963787</td>\n",
       "      <td>3312258926</td>\n",
       "      <td>2019-08-15</td>\n",
       "      <td>1650</td>\n",
       "      <td>B</td>\n",
       "    </tr>\n",
       "    <tr>\n",
       "      <th>1</th>\n",
       "      <td>2804400009</td>\n",
       "      <td>3642806036</td>\n",
       "      <td>2019-08-15</td>\n",
       "      <td>730</td>\n",
       "      <td>B</td>\n",
       "    </tr>\n",
       "    <tr>\n",
       "      <th>2</th>\n",
       "      <td>2961555356</td>\n",
       "      <td>4069496402</td>\n",
       "      <td>2019-08-15</td>\n",
       "      <td>400</td>\n",
       "      <td>A</td>\n",
       "    </tr>\n",
       "    <tr>\n",
       "      <th>3</th>\n",
       "      <td>3797467345</td>\n",
       "      <td>1196621759</td>\n",
       "      <td>2019-08-15</td>\n",
       "      <td>9759</td>\n",
       "      <td>B</td>\n",
       "    </tr>\n",
       "    <tr>\n",
       "      <th>4</th>\n",
       "      <td>2282983706</td>\n",
       "      <td>2322279887</td>\n",
       "      <td>2019-08-15</td>\n",
       "      <td>2308</td>\n",
       "      <td>B</td>\n",
       "    </tr>\n",
       "    <tr>\n",
       "      <th>...</th>\n",
       "      <td>...</td>\n",
       "      <td>...</td>\n",
       "      <td>...</td>\n",
       "      <td>...</td>\n",
       "      <td>...</td>\n",
       "    </tr>\n",
       "    <tr>\n",
       "      <th>1192</th>\n",
       "      <td>2662137336</td>\n",
       "      <td>3733762160</td>\n",
       "      <td>2019-08-14</td>\n",
       "      <td>6490</td>\n",
       "      <td>B</td>\n",
       "    </tr>\n",
       "    <tr>\n",
       "      <th>1193</th>\n",
       "      <td>2203539145</td>\n",
       "      <td>370388673</td>\n",
       "      <td>2019-08-14</td>\n",
       "      <td>3190</td>\n",
       "      <td>A</td>\n",
       "    </tr>\n",
       "    <tr>\n",
       "      <th>1194</th>\n",
       "      <td>1807773912</td>\n",
       "      <td>573423106</td>\n",
       "      <td>2019-08-14</td>\n",
       "      <td>10550</td>\n",
       "      <td>A</td>\n",
       "    </tr>\n",
       "    <tr>\n",
       "      <th>1195</th>\n",
       "      <td>1947021204</td>\n",
       "      <td>1614305549</td>\n",
       "      <td>2019-08-14</td>\n",
       "      <td>100</td>\n",
       "      <td>A</td>\n",
       "    </tr>\n",
       "    <tr>\n",
       "      <th>1196</th>\n",
       "      <td>3936777065</td>\n",
       "      <td>2108080724</td>\n",
       "      <td>2019-08-15</td>\n",
       "      <td>202740</td>\n",
       "      <td>B</td>\n",
       "    </tr>\n",
       "  </tbody>\n",
       "</table>\n",
       "<p>1197 rows × 5 columns</p>\n",
       "</div>"
      ],
      "text/plain": [
       "      transactionId   visitorId       date  revenue group\n",
       "0        3667963787  3312258926 2019-08-15     1650     B\n",
       "1        2804400009  3642806036 2019-08-15      730     B\n",
       "2        2961555356  4069496402 2019-08-15      400     A\n",
       "3        3797467345  1196621759 2019-08-15     9759     B\n",
       "4        2282983706  2322279887 2019-08-15     2308     B\n",
       "...             ...         ...        ...      ...   ...\n",
       "1192     2662137336  3733762160 2019-08-14     6490     B\n",
       "1193     2203539145   370388673 2019-08-14     3190     A\n",
       "1194     1807773912   573423106 2019-08-14    10550     A\n",
       "1195     1947021204  1614305549 2019-08-14      100     A\n",
       "1196     3936777065  2108080724 2019-08-15   202740     B\n",
       "\n",
       "[1197 rows x 5 columns]"
      ]
     },
     "execution_count": 31,
     "metadata": {},
     "output_type": "execute_result"
    }
   ],
   "source": [
    "orders "
   ]
  },
  {
   "cell_type": "code",
   "execution_count": 32,
   "id": "e960fc5d",
   "metadata": {},
   "outputs": [
    {
     "name": "stdout",
     "output_type": "stream",
     "text": [
      "p-value = 0.852\n",
      "0.016\n"
     ]
    }
   ],
   "source": [
    "print(\"p-value = {0:.3f}\".format(stats.mannwhitneyu(orders[np.logical_and(orders['group']=='A', orders['revenue'] <= 28000)]['revenue'], orders[np.logical_and(orders['group']=='B', orders['revenue'] <= 28000)]['revenue'])[1]))\n",
    "print(\"{0:.3f}\".format(orders[np.logical_and(orders['group']=='A', orders['revenue'] <= 28000)]['revenue'].mean() / orders[np.logical_and(orders['group']=='B', orders['revenue'] <= 28000)]['revenue'].mean() - 1))"
   ]
  },
  {
   "cell_type": "markdown",
   "id": "c36c4258",
   "metadata": {},
   "source": [
    "### Вывод: теперь средний чек группы А стал больше на 1.6%, но p-value равен 0.852, что означает что разница в средних чеках статистически не значима."
   ]
  },
  {
   "cell_type": "markdown",
   "id": "3c18e05a",
   "metadata": {},
   "source": [
    "### 2.14 Вывод.\n",
    "По результатам анализа очищенных и неочищенных данных мы видим, что конверсия в обоих случаях больше в группе В и разница статстически значима, вероятность ошибится около 1%, график стабилизировался. Анализ среднего чека не показал явного победителя, при это график еще скачет, но при очищенных данных разница в средних чеках минимальна. Мы выявили явного победителя - группу В, тест можно останавливать."
   ]
  }
 ],
 "metadata": {
  "kernelspec": {
   "display_name": "Python 3 (ipykernel)",
   "language": "python",
   "name": "python3"
  },
  "language_info": {
   "codemirror_mode": {
    "name": "ipython",
    "version": 3
   },
   "file_extension": ".py",
   "mimetype": "text/x-python",
   "name": "python",
   "nbconvert_exporter": "python",
   "pygments_lexer": "ipython3",
   "version": "3.9.12"
  }
 },
 "nbformat": 4,
 "nbformat_minor": 5
}
